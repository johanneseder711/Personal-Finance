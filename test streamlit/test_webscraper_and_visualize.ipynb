{
 "cells": [
  {
   "cell_type": "code",
   "execution_count": 13,
   "id": "b20f1b27",
   "metadata": {},
   "outputs": [],
   "source": [
    "from selenium import webdriver\n",
    "from selenium.webdriver.common.keys import Keys\n",
    "from selenium.webdriver.common.by import By\n",
    "import re\n",
    "import time\n",
    "\n",
    "import streamlit as st"
   ]
  },
  {
   "cell_type": "code",
   "execution_count": 14,
   "id": "ed6732b8",
   "metadata": {},
   "outputs": [],
   "source": [
    "# define the path to the credentials file\n",
    "PATH_CREDENTIALS = '../Credentials/my_credentials.txt'\n",
    "\n",
    "# read in the file line by line and store the credentials\n",
    "# new credentials start with a # and the name of the credentials site\n",
    "# in the next two lines there are the username and password stored in the file\n",
    "credentials_dict = {}\n",
    "with open(PATH_CREDENTIALS) as f:\n",
    "    for line in f:\n",
    "        if line.startswith('#'):\n",
    "            credentials_dict[line.split()[1]] = [next(f).split()[0],next(f).split()[0]]"
   ]
  },
  {
   "cell_type": "code",
   "execution_count": 22,
   "id": "6b2c936f",
   "metadata": {},
   "outputs": [
    {
     "name": "stderr",
     "output_type": "stream",
     "text": [
      "/var/folders/c4/0fnfwzgn3m1dmn9w37csrjx00000gn/T/ipykernel_2072/1855487880.py:18: DeprecationWarning: find_element_by_* commands are deprecated. Please use find_element() instead\n",
      "  driver.find_element_by_id('uname_app').send_keys(user)\n",
      "/var/folders/c4/0fnfwzgn3m1dmn9w37csrjx00000gn/T/ipykernel_2072/1855487880.py:19: DeprecationWarning: find_element_by_* commands are deprecated. Please use find_element() instead\n",
      "  driver.find_element_by_id(\"password_app\").send_keys(pw)\n",
      "2022-01-02 11:42:01.654 \n",
      "  \u001b[33m\u001b[1mWarning:\u001b[0m to view this Streamlit app on a browser, run it with the following\n",
      "  command:\n",
      "\n",
      "    streamlit run /Users/johanneseder711/miniforge3/envs/venv_personal_finance/lib/python3.9/site-packages/ipykernel_launcher.py [ARGUMENTS]\n"
     ]
    },
    {
     "data": {
      "text/plain": [
       "'DeltaGenerator(_root_container=0, _provided_cursor=None, _parent=None, _block_type=None, _form_data=None)'"
      ]
     },
     "execution_count": 22,
     "metadata": {},
     "output_type": "execute_result"
    }
   ],
   "source": [
    "# define the url to be scraped\n",
    "URL = \"https://www.flatex.at/login/\"\n",
    "# start the session\n",
    "driver = webdriver.Safari()\n",
    "driver.get(URL)\n",
    "# accept cookies\n",
    "driver.find_element(By.CLASS_NAME,\"sg-cookie-optin-box-button-accept-all\").click()\n",
    "\n",
    "for key in credentials_dict.keys():\n",
    "    if key.lower() in URL:\n",
    "        user, pw = credentials_dict[key]\n",
    "# wait until the site is fully loaded\n",
    "time.sleep(1)\n",
    "# store current window\n",
    "current_window = driver.window_handles[0]\n",
    "\n",
    "# enter credentials\n",
    "driver.find_element_by_id('uname_app').send_keys(user)\n",
    "driver.find_element_by_id(\"password_app\").send_keys(pw)\n",
    "# click the login button\n",
    "driver.find_element(By.CSS_SELECTOR,\"button.button\").click()\n",
    "\n",
    "# wait until webpage has loaded\n",
    "time.sleep(3)\n",
    "\n",
    "#get first child window\n",
    "windows = driver.window_handles\n",
    "\n",
    "# extract what the new window is\n",
    "windows.remove(current_window)\n",
    "new_window = windows[0]\n",
    "\n",
    "# switch to the new window\n",
    "driver.switch_to.window(new_window)\n",
    "\n",
    "\n",
    "# expand overview of the account\n",
    "driver.find_element(By.XPATH, \"//td[text()='KONTO & DEPOT']\").click()\n",
    "\n",
    "# click on depotbestand to get to full overview\n",
    "driver.find_element(By.XPATH, \"//div[text()='Depotbestand']\").click()\n",
    "\n",
    "# wait to load\n",
    "time.sleep(1)\n",
    "\n",
    "# extract information on account balance\n",
    "total_flatex_value = driver.find_elements(By.XPATH, \"//td[@class='C4 footer']\")[0].text.split()[0]\n",
    "total_flatex_paid = driver.find_elements(By.XPATH, \"//td[@class='C4 footer']\")[1].text.split()[0]\n",
    "absolute_profit = driver.find_elements(By.XPATH, \"//td[@class='C5 footer']\")[0].text.split()[0]\n",
    "relative_profit = driver.find_elements(By.XPATH, \"//td[@class='C5 footer']\")[1].text.split()[0]\n",
    "\n",
    "driver.close()\n",
    "\n",
    "#get first child window\n",
    "chwd = driver.window_handles\n",
    "\n",
    "driver.switch_to.window(chwd[0])\n",
    "\n",
    "driver.close()\n",
    "\n",
    "st.metric(label=\"Flatex Total Value\", value=total_flatex_value + \" €\", delta=absolute_profit + \" €\")"
   ]
  },
  {
   "cell_type": "code",
   "execution_count": 12,
   "id": "405c792d",
   "metadata": {},
   "outputs": [],
   "source": []
  },
  {
   "cell_type": "code",
   "execution_count": null,
   "id": "fb37851e",
   "metadata": {},
   "outputs": [],
   "source": []
  }
 ],
 "metadata": {
  "kernelspec": {
   "display_name": "Python 3 (ipykernel)",
   "language": "python",
   "name": "python3"
  },
  "language_info": {
   "codemirror_mode": {
    "name": "ipython",
    "version": 3
   },
   "file_extension": ".py",
   "mimetype": "text/x-python",
   "name": "python",
   "nbconvert_exporter": "python",
   "pygments_lexer": "ipython3",
   "version": "3.9.5"
  }
 },
 "nbformat": 4,
 "nbformat_minor": 5
}
